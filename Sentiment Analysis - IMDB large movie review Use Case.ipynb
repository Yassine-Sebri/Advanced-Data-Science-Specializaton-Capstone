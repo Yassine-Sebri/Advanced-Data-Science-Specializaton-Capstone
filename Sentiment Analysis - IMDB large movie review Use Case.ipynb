{
  "nbformat": 4,
  "nbformat_minor": 0,
  "metadata": {
    "colab": {
      "name": " \tSentiment Analysis - IMDB large movie review Use Case.ipynb",
      "provenance": [],
      "collapsed_sections": [],
      "mount_file_id": "17F8NyM70-UTi6FyvtgeSiK88qIhwOpkU",
      "authorship_tag": "ABX9TyO7Bl42lyo4Qe8OeOJsWud9",
      "include_colab_link": true
    },
    "kernelspec": {
      "name": "python3",
      "display_name": "Python 3"
    }
  },
  "cells": [
    {
      "cell_type": "markdown",
      "metadata": {
        "id": "view-in-github",
        "colab_type": "text"
      },
      "source": [
        "<a href=\"https://colab.research.google.com/github/Yassine-Sebri/Advanced-Data-Science-Specializaton-Capstone/blob/master/Sentiment%20Analysis%20-%20IMDB%20large%20movie%20review%20Use%20Case.ipynb\" target=\"_parent\"><img src=\"https://colab.research.google.com/assets/colab-badge.svg\" alt=\"Open In Colab\"/></a>"
      ]
    },
    {
      "cell_type": "code",
      "metadata": {
        "id": "bbKK_qOxSIFU",
        "colab_type": "code",
        "outputId": "cfc82b8b-dc41-4c92-89be-8da767d89813",
        "colab": {
          "base_uri": "https://localhost:8080/",
          "height": 34
        }
      },
      "source": [
        "%tensorflow_version 2.x"
      ],
      "execution_count": 1,
      "outputs": [
        {
          "output_type": "stream",
          "text": [
            "TensorFlow 2.x selected.\n"
          ],
          "name": "stdout"
        }
      ]
    },
    {
      "cell_type": "code",
      "metadata": {
        "id": "immSUo13P0IW",
        "colab_type": "code",
        "colab": {}
      },
      "source": [
        "# Essentials\n",
        "import numpy as np\n",
        "import pandas as pd\n",
        "\n",
        "import warnings\n",
        "warnings.simplefilter('ignore')\n",
        "\n",
        "# Models\n",
        "import tensorflow as tf\n",
        "\n",
        "# Misc\n",
        "from joblib import load\n",
        "import random"
      ],
      "execution_count": 0,
      "outputs": []
    },
    {
      "cell_type": "code",
      "metadata": {
        "id": "cgFot99xSPr1",
        "colab_type": "code",
        "outputId": "1e575320-9d15-4051-c6a6-c408e8b51781",
        "colab": {
          "base_uri": "https://localhost:8080/",
          "height": 34
        }
      },
      "source": [
        "# Reading data\n",
        "data = pd.read_csv(\"/content/drive/My Drive/IBM Advanced Data Science Capstone/IMDB Dataset.csv\")\n",
        "data_preprocessed = pd.read_csv(\"/content/drive/My Drive/IBM Advanced Data Science Capstone/Preprocessed_data.csv\")\n",
        "data.shape"
      ],
      "execution_count": 3,
      "outputs": [
        {
          "output_type": "execute_result",
          "data": {
            "text/plain": [
              "(50000, 2)"
            ]
          },
          "metadata": {
            "tags": []
          },
          "execution_count": 3
        }
      ]
    },
    {
      "cell_type": "code",
      "metadata": {
        "id": "fC1gJgOHSqz7",
        "colab_type": "code",
        "colab": {}
      },
      "source": [
        "# Loading necessary data transformers\n",
        "tfidf = load(\"/content/drive/My Drive/IBM Advanced Data Science Capstone/tfidf_vectorizer.joblib\")\n",
        "selector = load(\"/content/drive/My Drive/IBM Advanced Data Science Capstone/selector.joblib\")"
      ],
      "execution_count": 0,
      "outputs": []
    },
    {
      "cell_type": "code",
      "metadata": {
        "id": "Z254alqzUtUz",
        "colab_type": "code",
        "colab": {}
      },
      "source": [
        "# Loading the model\n",
        "model = tf.keras.models.load_model('/content/drive/My Drive/IBM Advanced Data Science Capstone/NN_model.h5')"
      ],
      "execution_count": 0,
      "outputs": []
    },
    {
      "cell_type": "code",
      "metadata": {
        "id": "mPSkPdxqXopA",
        "colab_type": "code",
        "outputId": "876fc3e0-ef79-4068-8629-c507f79628b1",
        "colab": {
          "base_uri": "https://localhost:8080/",
          "height": 89
        }
      },
      "source": [
        "# Selecting a random review\n",
        "index = random.randrange(50000)\n",
        "\n",
        "# Performing the necessary transformations\n",
        "vectorized_text = tfidf.transform([data_preprocessed.review[index]])\n",
        "transformed_text = selector.transform(vectorized_text)\n",
        "\n",
        "# Printing results\n",
        "print(\"Review: {}\".format(data.review[index]))\n",
        "print(\"Predicted Label: {}\".format(\"positive\" if model.predict(transformed_text.toarray()) > 0.5 else \"negative\"))\n",
        "print(\"True Labal: {}\".format(data.sentiment[index]))\n"
      ],
      "execution_count": 6,
      "outputs": [
        {
          "output_type": "stream",
          "text": [
            "Review: I agree with \"johnlewis\", who said that there is a lot going on between the lines in this film. While I do think the pacing of this film could be improved, I do think that the complexity of the relationships between the characters is fascinating.<br /><br />Examples : <br /><br />Pierre is going to marry his cousin, even though his love for her seems very cousin-y ? <br /><br />Pierre and his stepmother have a rather...curious relationship.<br /><br />Pierre, Lucie, and Thibault seem to have a triangular relationship, and the actual points to the triangle are not quite certain...<br /><br />Lucie's brother is a bit of a eunuch, or is he ? <br /><br />And Isabelle, who is she really ?? <br /><br />Overall, I think it was worth my time. An interesting film, and one that makes me want to read Melville.\n",
            "Predicted Label: positive\n",
            "True Labal: positive\n"
          ],
          "name": "stdout"
        }
      ]
    }
  ]
}