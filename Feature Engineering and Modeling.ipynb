{
  "nbformat": 4,
  "nbformat_minor": 0,
  "metadata": {
    "colab": {
      "name": "Feature Engineering and Modeling.ipynb",
      "provenance": [],
      "collapsed_sections": [],
      "machine_shape": "hm",
      "mount_file_id": "1G8gM9R09u_lBYFAZ-lVPopi1SKdmm7z9",
      "authorship_tag": "ABX9TyOExw0nhiHMWi5mik9N9aXe",
      "include_colab_link": true
    },
    "kernelspec": {
      "name": "python3",
      "display_name": "Python 3"
    },
    "accelerator": "GPU"
  },
  "cells": [
    {
      "cell_type": "markdown",
      "metadata": {
        "id": "view-in-github",
        "colab_type": "text"
      },
      "source": [
        "<a href=\"https://colab.research.google.com/github/Yassine-Sebri/Advanced-Data-Science-Specializaton-Capstone/blob/master/Feature%20Engineering%20and%20Modeling.ipynb\" target=\"_parent\"><img src=\"https://colab.research.google.com/assets/colab-badge.svg\" alt=\"Open In Colab\"/></a>"
      ]
    },
    {
      "cell_type": "code",
      "metadata": {
        "id": "FMiaWbVUyDeX",
        "colab_type": "code",
        "outputId": "a8a9f587-74cb-490f-ed5b-954a50e203e2",
        "colab": {
          "base_uri": "https://localhost:8080/",
          "height": 34
        }
      },
      "source": [
        "%tensorflow_version 2.x"
      ],
      "execution_count": 1,
      "outputs": [
        {
          "output_type": "stream",
          "text": [
            "TensorFlow 2.x selected.\n"
          ],
          "name": "stdout"
        }
      ]
    },
    {
      "cell_type": "code",
      "metadata": {
        "id": "2UbxoMaxpzhM",
        "colab_type": "code",
        "colab": {}
      },
      "source": [
        "# Essentials\n",
        "import numpy as np\n",
        "import pandas as pd\n",
        "\n",
        "import warnings\n",
        "warnings.simplefilter('ignore')\n",
        "\n",
        "# Data Visualization\n",
        "import matplotlib.pyplot as plt\n",
        "import seaborn as sns\n",
        "\n",
        "%matplotlib inline\n",
        "\n",
        "# Models\n",
        "from sklearn.ensemble import RandomForestClassifier\n",
        "from sklearn.naive_bayes import MultinomialNB\n",
        "import tensorflow as tf\n",
        "from tensorflow.keras import Sequential\n",
        "from tensorflow.keras import models\n",
        "from tensorflow.keras.layers import Input, Dense, Dropout\n",
        "\n",
        "# Misc\n",
        "from collections import Counter\n",
        "import string\n",
        "import nltk\n",
        "from nltk.corpus import stopwords\n",
        "from nltk.tokenize import word_tokenize\n",
        "from bs4 import BeautifulSoup             \n",
        "import re\n",
        "import random\n",
        "from sklearn import preprocessing\n",
        "from sklearn.feature_extraction.text import TfidfVectorizer\n",
        "from sklearn.feature_selection import SelectKBest\n",
        "from sklearn.feature_selection import f_classif\n",
        "from sklearn.model_selection import train_test_split\n",
        "from joblib import dump\n",
        "nltk.download('all')"
      ],
      "execution_count": 0,
      "outputs": []
    },
    {
      "cell_type": "code",
      "metadata": {
        "id": "eFM4lmj1qpYi",
        "colab_type": "code",
        "outputId": "d25383e1-05ce-4ff8-aed8-4c04499ebb26",
        "colab": {
          "base_uri": "https://localhost:8080/",
          "height": 34
        }
      },
      "source": [
        "# Reading data\n",
        "data = pd.read_csv(\"/content/drive/My Drive/IBM Advanced Data Science Capstone/IMDB Dataset.csv\")\n",
        "data.shape"
      ],
      "execution_count": 3,
      "outputs": [
        {
          "output_type": "execute_result",
          "data": {
            "text/plain": [
              "(50000, 2)"
            ]
          },
          "metadata": {
            "tags": []
          },
          "execution_count": 3
        }
      ]
    },
    {
      "cell_type": "markdown",
      "metadata": {
        "id": "9_04eYOKq8jv",
        "colab_type": "text"
      },
      "source": [
        "##Preprocessing"
      ]
    },
    {
      "cell_type": "code",
      "metadata": {
        "id": "DitYjbMivsz6",
        "colab_type": "code",
        "colab": {}
      },
      "source": [
        "# Label encoding\n",
        "label_encoder = preprocessing.LabelEncoder()\n",
        "data['sentiment'] = label_encoder.fit_transform(data['sentiment'])"
      ],
      "execution_count": 0,
      "outputs": []
    },
    {
      "cell_type": "code",
      "metadata": {
        "id": "IZlmUprtrtbR",
        "colab_type": "code",
        "outputId": "40088e5d-8e37-497b-b4ed-8a82443e080c",
        "colab": {
          "base_uri": "https://localhost:8080/",
          "height": 72
        }
      },
      "source": [
        "def preprocessing(raw_review):\n",
        "    # 1. Remove HTML\n",
        "    review_text = BeautifulSoup(raw_review).get_text() \n",
        "\n",
        "    # 2. Remove non-letters        \n",
        "    letters_only = re.sub(\"[^a-zA-Z]\", \" \", review_text) \n",
        "\n",
        "    # 3. Convert to lower case, split into individual words\n",
        "    words = letters_only.lower().split()                             \n",
        "\n",
        "    # 4. Converting to set for better time complexity\n",
        "    stops = set(stopwords.words(\"english\"))                  \n",
        "\n",
        "    # 5. Remove stop words\n",
        "    meaningful_words = [w for w in words if not w in stops]   \n",
        "\n",
        "    # 6. Join the words back into one string separated by space, \n",
        "    # and return the result.\n",
        "    return( \" \".join( meaningful_words))  \n",
        " \n",
        "index = random.randrange(50000)\n",
        "\n",
        "print(\"Original review: {}\".format(data.review.values[index]))\n",
        "print(\"Preprocessed : {}\".format(preprocessing(data.review.values[index])))"
      ],
      "execution_count": 5,
      "outputs": [
        {
          "output_type": "stream",
          "text": [
            "Original review: Best animated movie ever made. This film explores not only the vast world of modern animation with absolutely boggling effects, but the branches of the human mind, soul, and philosophy. The story features a family of cats, where in the big sister dies, the younger brother sees this and rescues her body, but when she awakens she is left without a soul. So, the two sibling cats embark on a journey to find it. I have related this journey to many things. The history of the world, the bible, the cycle of life, and every time I watch it I discover more and more hidden themes and metaphors. If you aren't so into the physiological aspect of it then, you will still adore it. The animation is superb, and the creative scenes will have you attached to the screen. For example, the ocean freezing in time, god eating soup out of the earth, a strange and slightly SNM retelling of Hansel and Gretel. To conclude, Cat Soup is an absolute treat for anyone.<br /><br />PS- Not for kids, gratuitous violence included.\n",
            "Preprocessed : best animated movie ever made film explores vast world modern animation absolutely boggling effects branches human mind soul philosophy story features family cats big sister dies younger brother sees rescues body awakens left without soul two sibling cats embark journey find related journey many things history world bible cycle life every time watch discover hidden themes metaphors physiological aspect still adore animation superb creative scenes attached screen example ocean freezing time god eating soup earth strange slightly snm retelling hansel gretel conclude cat soup absolute treat anyone ps kids gratuitous violence included\n"
          ],
          "name": "stdout"
        }
      ]
    },
    {
      "cell_type": "code",
      "metadata": {
        "id": "ofnFZMuYsPEJ",
        "colab_type": "code",
        "colab": {}
      },
      "source": [
        "preprocessed_data = data\n",
        "preprocessed_data['review'] = preprocessed_data['review'].apply(preprocessing)\n",
        "preprocessed_data.to_csv('Preprocessed_data.csv', index=False)"
      ],
      "execution_count": 0,
      "outputs": []
    },
    {
      "cell_type": "markdown",
      "metadata": {
        "id": "JlI_nsgj2dxD",
        "colab_type": "text"
      },
      "source": [
        "##Feature Engineering"
      ]
    },
    {
      "cell_type": "code",
      "metadata": {
        "id": "ReYYY-3yvasB",
        "colab_type": "code",
        "outputId": "e3c1f68f-215f-4e0a-d15e-4677b2fbc737",
        "colab": {
          "base_uri": "https://localhost:8080/",
          "height": 34
        }
      },
      "source": [
        "# Let's check the dimensionality of transformed text\n",
        "tfidf = TfidfVectorizer()\n",
        "tr_texts = tfidf.fit_transform(preprocessed_data['review'])\n",
        "tr_texts.shape"
      ],
      "execution_count": 7,
      "outputs": [
        {
          "output_type": "execute_result",
          "data": {
            "text/plain": [
              "(50000, 101227)"
            ]
          },
          "metadata": {
            "tags": []
          },
          "execution_count": 7
        }
      ]
    },
    {
      "cell_type": "code",
      "metadata": {
        "id": "oWtPxVFbtQDc",
        "colab_type": "code",
        "outputId": "3ffdf10e-c132-4a28-8b9c-0beffb8a7559",
        "colab": {
          "base_uri": "https://localhost:8080/",
          "height": 34
        }
      },
      "source": [
        "# Let's try to reduce the dimensionality\n",
        "NGRAM_RANGE = (1, 2)\n",
        "TOP_K = 20000\n",
        "TOKEN_MODE = 'word'\n",
        "MIN_DOC_FREQ = 2\n",
        "\n",
        "def ngram_vectorize(texts, labels):\n",
        "    kwargs = {\n",
        "        'ngram_range' : NGRAM_RANGE,\n",
        "        'dtype' : 'int32',\n",
        "        'strip_accents' : 'unicode',\n",
        "        'decode_error' : 'replace',\n",
        "        'analyzer' : TOKEN_MODE,\n",
        "        'min_df' : MIN_DOC_FREQ,\n",
        "    }\n",
        "    # Learn Vocab from train texts and vectorize train and val sets\n",
        "    tfidf_vectorizer = TfidfVectorizer(**kwargs)\n",
        "    transformed_texts = tfidf_vectorizer.fit_transform(texts)\n",
        "    dump(tfidf_vectorizer, \"tfidf_vectorizer.joblib\")\n",
        "    \n",
        "    # Select best k features, with feature importance measured by f_classif\n",
        "    # Set k as 20000 or (if number of ngrams is less) number of ngrams   \n",
        "    selector = SelectKBest(f_classif, k=min(TOP_K, transformed_texts.shape[1]))\n",
        "    selector.fit(transformed_texts, labels)\n",
        "    transformed_texts = selector.transform(transformed_texts).astype('float32')\n",
        "    dump(selector, \"selector.joblib\")\n",
        "    return transformed_texts\n",
        "\n",
        "# Vectorize the data\n",
        "vect_data = ngram_vectorize(preprocessed_data['review'], preprocessed_data['sentiment'])\n",
        "vect_data.shape"
      ],
      "execution_count": 8,
      "outputs": [
        {
          "output_type": "execute_result",
          "data": {
            "text/plain": [
              "(50000, 20000)"
            ]
          },
          "metadata": {
            "tags": []
          },
          "execution_count": 8
        }
      ]
    },
    {
      "cell_type": "markdown",
      "metadata": {
        "id": "ZcYtTa5h2qnU",
        "colab_type": "text"
      },
      "source": [
        "##Modeling"
      ]
    },
    {
      "cell_type": "code",
      "metadata": {
        "id": "LCHwMbI30JTj",
        "colab_type": "code",
        "outputId": "51e63dcd-b89a-47a9-a2b6-6a4fa0e4d47c",
        "colab": {
          "base_uri": "https://localhost:8080/",
          "height": 52
        }
      },
      "source": [
        "# Split data to target y and features X\n",
        "X = vect_data.toarray()\n",
        "y = np.array(data['sentiment'])\n",
        "\n",
        "# Here we split data to training and testing parts\n",
        "X_train, X_test, y_train, y_test = train_test_split(X, y, test_size=0.2, random_state=42)\n",
        "print(\"Train dataset shape: {0}, \\nTest dataset shape: {1}\".format(X_train.shape, X_test.shape))"
      ],
      "execution_count": 9,
      "outputs": [
        {
          "output_type": "stream",
          "text": [
            "Train dataset shape: (40000, 20000), \n",
            "Test dataset shape: (10000, 20000)\n"
          ],
          "name": "stdout"
        }
      ]
    },
    {
      "cell_type": "markdown",
      "metadata": {
        "id": "vTU_kikN49Fn",
        "colab_type": "text"
      },
      "source": [
        "###Classic Models"
      ]
    },
    {
      "cell_type": "code",
      "metadata": {
        "id": "1hyaMlRe5F6q",
        "colab_type": "code",
        "colab": {}
      },
      "source": [
        "# Naive Bayes\n",
        "clf = MultinomialNB()\n",
        "clf.fit(X_train, y_train)\n",
        "nb_accuracy = clf.score(X_test, y_test)"
      ],
      "execution_count": 0,
      "outputs": []
    },
    {
      "cell_type": "code",
      "metadata": {
        "id": "1D9WV3vv6qEn",
        "colab_type": "code",
        "colab": {}
      },
      "source": [
        "# Random Forest\n",
        "rf = RandomForestClassifier(n_estimators = 100)\n",
        "rf.fit(X_train, y_train)\n",
        "rf_accuracy = rf.score(X_test, y_test)"
      ],
      "execution_count": 0,
      "outputs": []
    },
    {
      "cell_type": "markdown",
      "metadata": {
        "id": "XyU2WAJs5GMG",
        "colab_type": "text"
      },
      "source": [
        "###Deep Learning"
      ]
    },
    {
      "cell_type": "code",
      "metadata": {
        "id": "W2lhVzeXyjs2",
        "colab_type": "code",
        "outputId": "a0d0c565-7e60-49e8-f10a-e455146c2d9f",
        "colab": {
          "base_uri": "https://localhost:8080/",
          "height": 330
        }
      },
      "source": [
        "input_shape = X_train.shape[1:]\n",
        "\n",
        "model = Sequential()\n",
        "model.add(Input(shape=input_shape))\n",
        "model.add(Dense(units=64, activation='relu'))\n",
        "model.add(Dropout(rate=0.5))\n",
        "model.add(Dense(units=64, activation='relu'))\n",
        "model.add(Dropout(rate=0.5))\n",
        "model.add(Dense(units=1, activation='sigmoid'))\n",
        "model.summary()"
      ],
      "execution_count": 12,
      "outputs": [
        {
          "output_type": "stream",
          "text": [
            "Model: \"sequential\"\n",
            "_________________________________________________________________\n",
            "Layer (type)                 Output Shape              Param #   \n",
            "=================================================================\n",
            "dense (Dense)                (None, 64)                1280064   \n",
            "_________________________________________________________________\n",
            "dropout (Dropout)            (None, 64)                0         \n",
            "_________________________________________________________________\n",
            "dense_1 (Dense)              (None, 64)                4160      \n",
            "_________________________________________________________________\n",
            "dropout_1 (Dropout)          (None, 64)                0         \n",
            "_________________________________________________________________\n",
            "dense_2 (Dense)              (None, 1)                 65        \n",
            "=================================================================\n",
            "Total params: 1,284,289\n",
            "Trainable params: 1,284,289\n",
            "Non-trainable params: 0\n",
            "_________________________________________________________________\n"
          ],
          "name": "stdout"
        }
      ]
    },
    {
      "cell_type": "code",
      "metadata": {
        "id": "lys2EzKY1FNJ",
        "colab_type": "code",
        "colab": {}
      },
      "source": [
        "LEARNING_RATE = 1e-3\n",
        "\n",
        "loss = 'binary_crossentropy'\n",
        "\n",
        "optimizer = tf.keras.optimizers.Adam(lr=LEARNING_RATE)\n",
        "model.compile(optimizer=optimizer, loss=loss, metrics=['acc'])"
      ],
      "execution_count": 0,
      "outputs": []
    },
    {
      "cell_type": "code",
      "metadata": {
        "id": "34h-zvy11yVa",
        "colab_type": "code",
        "outputId": "73b602cf-9501-4320-c7df-07192595b2ad",
        "colab": {
          "base_uri": "https://localhost:8080/",
          "height": 228
        }
      },
      "source": [
        "EPOCHS = 5\n",
        "BATCH_SIZE = 64\n",
        "\n",
        "# Train and validate model\n",
        "# To start training, call the model.fit method—the model is \"fit\" to the training data.\n",
        "# Note that fit() will return a History object which we can use to plot training vs. validation accuracy and loss.\n",
        "history = model.fit(X_train, y_train, epochs=EPOCHS, validation_data=(X_test, y_test), verbose=1, \n",
        "                    batch_size=BATCH_SIZE)"
      ],
      "execution_count": 14,
      "outputs": [
        {
          "output_type": "stream",
          "text": [
            "Train on 40000 samples, validate on 10000 samples\n",
            "Epoch 1/5\n",
            "40000/40000 [==============================] - 4s 99us/sample - loss: 0.3043 - acc: 0.8818 - val_loss: 0.1878 - val_acc: 0.9254\n",
            "Epoch 2/5\n",
            "40000/40000 [==============================] - 3s 83us/sample - loss: 0.1518 - acc: 0.9446 - val_loss: 0.1944 - val_acc: 0.9246\n",
            "Epoch 3/5\n",
            "40000/40000 [==============================] - 3s 82us/sample - loss: 0.1017 - acc: 0.9640 - val_loss: 0.2033 - val_acc: 0.9264\n",
            "Epoch 4/5\n",
            "40000/40000 [==============================] - 3s 83us/sample - loss: 0.0691 - acc: 0.9769 - val_loss: 0.2259 - val_acc: 0.9253\n",
            "Epoch 5/5\n",
            "40000/40000 [==============================] - 3s 81us/sample - loss: 0.0463 - acc: 0.9848 - val_loss: 0.2593 - val_acc: 0.9246\n"
          ],
          "name": "stdout"
        }
      ]
    },
    {
      "cell_type": "code",
      "metadata": {
        "id": "IPf2m9cD2BlA",
        "colab_type": "code",
        "outputId": "ff628ba1-aeb8-4ae8-c888-102642775afe",
        "colab": {
          "base_uri": "https://localhost:8080/",
          "height": 573
        }
      },
      "source": [
        "# Let's plot training and validation accuracy as well as loss.\n",
        "def plot_history(history):\n",
        "    accuracy = history.history['acc']\n",
        "    val_accuracy = history.history['val_acc']\n",
        "    loss = history.history['loss']\n",
        "    val_loss = history.history['val_loss']\n",
        "    \n",
        "    epochs = range(1,len(accuracy) + 1)\n",
        "    \n",
        "    # Plot accuracy  \n",
        "    plt.figure(1)\n",
        "    plt.plot(epochs, accuracy, 'b', label='Training accuracy')\n",
        "    plt.plot(epochs, val_accuracy, 'g', label='Validation accuracy')\n",
        "    plt.title('Training and validation accuracy')\n",
        "    plt.xlabel('Epochs')\n",
        "    plt.ylabel('Accuracy')\n",
        "    plt.legend()\n",
        "    \n",
        "    # Plot loss\n",
        "    plt.figure(2)\n",
        "    plt.plot(epochs, loss, 'b', label='Training loss')\n",
        "    plt.plot(epochs, val_loss, 'g', label='Validation loss')\n",
        "    plt.title('Training and validation loss')\n",
        "    plt.xlabel('Epochs')\n",
        "    plt.ylabel('Loss')\n",
        "    plt.legend()\n",
        "    plt.show()\n",
        "\n",
        "plot_history(history)"
      ],
      "execution_count": 15,
      "outputs": [
        {
          "output_type": "display_data",
          "data": {
            "image/png": "[encoded data removed]",
            "text/plain": [
              "<Figure size 432x288 with 1 Axes>"
            ]
          },
          "metadata": {
            "tags": []
          }
        },
        {
          "output_type": "display_data",
          "data": {
            "image/png": "[encoded data removed]",
            "text/plain": [
              "<Figure size 432x288 with 1 Axes>"
            ]
          },
          "metadata": {
            "tags": []
          }
        }
      ]
    },
    {
      "cell_type": "markdown",
      "metadata": {
        "id": "X3a4yuFzHAuv",
        "colab_type": "text"
      },
      "source": [
        "###Model Comparison"
      ]
    },
    {
      "cell_type": "code",
      "metadata": {
        "id": "wFOPH4fnHGBq",
        "colab_type": "code",
        "outputId": "8d8cd22e-8c6c-4bf9-952f-3d28bd034c24",
        "colab": {
          "base_uri": "https://localhost:8080/",
          "height": 281
        }
      },
      "source": [
        "y_pos = np.arange(3)\n",
        "sns.barplot(y_pos, [nb_accuracy, rf_accuracy, max(history.history['acc'])]);\n",
        "plt.title(\"Performance of Machine Learning Models\");\n",
        "plt.ylabel(\"Accuracy\");\n",
        "plt.xticks(y_pos, (\"Naive Bayes\", \"Random Forest\", \"Neural Networks\"));"
      ],
      "execution_count": 16,
      "outputs": [
        {
          "output_type": "display_data",
          "data": {
            "image/png": "[encoded data removed]",
            "text/plain": [
              "<Figure size 432x288 with 1 Axes>"
            ]
          },
          "metadata": {
            "tags": []
          }
        }
      ]
    },
    {
      "cell_type": "code",
      "metadata": {
        "id": "_1K8hxaLMrmn",
        "colab_type": "code",
        "colab": {}
      },
      "source": [
        "# Saving the Neural Networks model\n",
        "model.save('NN_model.h5')"
      ],
      "execution_count": 0,
      "outputs": []
    }
  ]
}